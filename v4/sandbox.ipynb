{
 "cells": [
  {
   "cell_type": "markdown",
   "metadata": {},
   "source": [
    "Previous results stalled at ~1K epochs. Next set of improvements:\n",
    "1. More training data\n",
    "2. Better submodel architecture\n",
    "3. Add cross-validation and reporting to training loop\n",
    "4. Convert each submodel to an ensemble"
   ]
  },
  {
   "cell_type": "code",
   "execution_count": 19,
   "metadata": {},
   "outputs": [],
   "source": [
    "import requests\n",
    "import bs4\n",
    "\n",
    "base = 'https://www.pokencyclopedia.info'\n",
    "num = f'{1:03}'\n",
    "soup = bs4.BeautifulSoup(requests.get(f'{base}/en/index.php?id=sprites/{num}').content)\n",
    "images = [image.attrs.get('src').replace('..', base) for image in soup.find_all('img', attrs={'alt': f'#{num}'})]\n",
    "pngs = list(filter(lambda url: url[-4:] == '.png', images))"
   ]
  },
  {
   "cell_type": "code",
   "execution_count": 24,
   "metadata": {},
   "outputs": [],
   "source": [
    "import os\n",
    "\n",
    "if not os.path.exists('.pokedex/'): os.makedirs('.pokedex/')\n",
    "\n",
    "for url in pngs:\n",
    "    image = requests.get(url)\n",
    "    with open(f'pokedex/{url.split(\"/\")[-1]}', 'wb') as file:\n",
    "        file.write(image.content)"
   ]
  }
 ],
 "metadata": {
  "kernelspec": {
   "display_name": ".venv",
   "language": "python",
   "name": "python3"
  },
  "language_info": {
   "codemirror_mode": {
    "name": "ipython",
    "version": 3
   },
   "file_extension": ".py",
   "mimetype": "text/x-python",
   "name": "python",
   "nbconvert_exporter": "python",
   "pygments_lexer": "ipython3",
   "version": "3.10.12"
  }
 },
 "nbformat": 4,
 "nbformat_minor": 2
}
